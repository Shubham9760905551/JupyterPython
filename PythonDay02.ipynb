{
 "cells": [
  {
   "cell_type": "markdown",
   "metadata": {},
   "source": [
    "# Day 2 in Python"
   ]
  },
  {
   "cell_type": "markdown",
   "metadata": {},
   "source": [
    "## Using Data Types and How to Manipulate Strings"
   ]
  },
  {
   "cell_type": "markdown",
   "metadata": {},
   "source": [
    "Square brackets [], are the definition of the subscript operator. It is used to access string, list, and other data types' components. Let's use the following example to demonstrate syntax: Specified string[<index>] The supplied string is the string you want to look at, and the index indicates where in the string you want to find a particular character."
   ]
  },
  {
   "cell_type": "code",
   "execution_count": 1,
   "metadata": {},
   "outputs": [
    {
     "name": "stdout",
     "output_type": "stream",
     "text": [
      "H\n",
      "o\n"
     ]
    }
   ],
   "source": [
    "# eg. print(\"string\"[value])\n",
    "# Programmers start counting from Zero(0)\n",
    "print(\"Hello\"[0])\n",
    "print(\"Hello\"[4])"
   ]
  },
  {
   "cell_type": "code",
   "execution_count": 2,
   "metadata": {},
   "outputs": [
    {
     "name": "stdout",
     "output_type": "stream",
     "text": [
      "123345\n",
      "468\n"
     ]
    }
   ],
   "source": [
    "# If you use the print function's double inverted comma. The output will print exactly as is.\n",
    "print(\"123\"+\"345\")\n",
    "# Value will be added using the [addition \"+\"] arithmetic operator.\n",
    "print(123+345)"
   ]
  },
  {
   "cell_type": "code",
   "execution_count": 1,
   "metadata": {},
   "outputs": [
    {
     "name": "stdout",
     "output_type": "stream",
     "text": [
      "What is your name\n",
      "Shubham Tomer\n",
      "Your name has 13 characters\n"
     ]
    }
   ],
   "source": [
    "num_char = len(input(\"What is your name\\n\"))\n",
    "new_num_char =str(num_char)\n",
    "print(\"Your name has \" + new_num_char + \" characters\")"
   ]
  },
  {
   "cell_type": "code",
   "execution_count": 2,
   "metadata": {},
   "outputs": [
    {
     "name": "stdout",
     "output_type": "stream",
     "text": [
      "170.5\n",
      "70100\n"
     ]
    }
   ],
   "source": [
    "print(70 + float(\"100.5\"))\n",
    "print(str(70) + str(100))"
   ]
  },
  {
   "cell_type": "markdown",
   "metadata": {},
   "source": [
    "A \"type\" is a classification of a variable or object based on its nature and behavior, determining its operations. Python has built-in data types like integers, floats, strings, lists, and dictionaries. The type() function can be used to determine the type of a variable or object."
   ]
  },
  {
   "cell_type": "code",
   "execution_count": 2,
   "metadata": {},
   "outputs": [
    {
     "name": "stdout",
     "output_type": "stream",
     "text": [
      "Type your two digit number\n",
      "93\n",
      "<class 'str'>\n",
      "93\n",
      "<class 'int'>\n",
      "12\n"
     ]
    }
   ],
   "source": [
    "# eg. type(5) returning <class 'int'>.\n",
    "two_digit_number = input(\"Type your two digit number\\n\")\n",
    "\n",
    "# Get the first and second digits using subscribting.\n",
    "first_digit = two_digit_number[0]\n",
    "second_digit = two_digit_number[1]\n",
    "\n",
    "result = first_digit + second_digit\n",
    "print(type(result)) # Check the data type of result\n",
    "print(result)\n",
    "\n",
    "# Now converting string to int.\n",
    "result = int(first_digit) + int(second_digit)\n",
    "print(type(result)) # Check the data type of result\n",
    "print(result)"
   ]
  },
  {
   "cell_type": "code",
   "execution_count": 1,
   "metadata": {},
   "outputs": [
    {
     "name": "stdout",
     "output_type": "stream",
     "text": [
      "8\n"
     ]
    }
   ],
   "source": [
    "# If you calculate squares and qs then\n",
    "print(2**3) # 2 the power 3 answer will 8"
   ]
  },
  {
   "cell_type": "markdown",
   "metadata": {},
   "source": [
    "###### Mathematical Operations"
   ]
  },
  {
   "cell_type": "code",
   "execution_count": 1,
   "metadata": {},
   "outputs": [
    {
     "name": "stdout",
     "output_type": "stream",
     "text": [
      "3.0\n"
     ]
    }
   ],
   "source": [
    "# PEMDASLR\n",
    "# ()\n",
    "# **\n",
    "# * /\n",
    "# + -\n",
    "print( 3 * (3 + 3 ) / 3 - 3)"
   ]
  },
  {
   "cell_type": "markdown",
   "metadata": {},
   "source": [
    "###### Body mass index (BMI) Calculator"
   ]
  },
  {
   "cell_type": "code",
   "execution_count": 1,
   "metadata": {},
   "outputs": [
    {
     "name": "stdout",
     "output_type": "stream",
     "text": [
      "Enter your height in m\n",
      "1.77\n",
      "Enter your weight in kg\n",
      "89\n",
      "28\n"
     ]
    }
   ],
   "source": [
    "height = input(\"Enter your height in m\\n\")\n",
    "weight = input(\"Enter your weight in kg\\n\")\n",
    "\n",
    "bmi = int(weight) / float(height) ** 2\n",
    "bmi_as_int = int(bmi)\n",
    "print(bmi_as_int)"
   ]
  },
  {
   "cell_type": "markdown",
   "metadata": {},
   "source": [
    "###### Program using maths and f-Strins that tells us how many days, weeks, months we have left if we live until 90 years old."
   ]
  },
  {
   "cell_type": "code",
   "execution_count": 2,
   "metadata": {},
   "outputs": [
    {
     "name": "stdout",
     "output_type": "stream",
     "text": [
      "What is your current age?\n",
      "22\n",
      "You have \n",
      "24820 days\n",
      "3536 weeks, and \n",
      "816 months left\n"
     ]
    }
   ],
   "source": [
    "age = input(\"What is your current age?\\n\")\n",
    "age_as_int = int(age)\n",
    "\n",
    "years_remaining = 90 - age_as_int\n",
    "days_remaining = years_remaining * 365\n",
    "weeks_remaining = years_remaining * 52\n",
    "months_remaining = years_remaining * 12\n",
    "\n",
    "message = f\"You have \\n{days_remaining} days\\n{weeks_remaining} weeks, and \\n{months_remaining} months left\"\n",
    "print(message)"
   ]
  },
  {
   "cell_type": "code",
   "execution_count": 1,
   "metadata": {},
   "outputs": [
    {
     "name": "stdout",
     "output_type": "stream",
     "text": [
      "Welcome to the tip calculator!\n",
      "What was the total bill? INR\n",
      "8000\n",
      "How much percent would you like to give? 10, 12, or 15\n",
      "10\n",
      "How many people to split the bill\n",
      "2\n",
      "Each person should pay 4400.00 INR Rupee\n"
     ]
    }
   ],
   "source": [
    "# If the bill was 8000, split between 5 people with 12% tip.\n",
    "# eg. Each person should pay ( 8000 / 5 ) * 1.12 = 1792\n",
    "print(\"Welcome to the tip calculator!\")\n",
    "bill = float(input(\"What was the total bill? INR\\n\"))\n",
    "\n",
    "# print(type(bill))\n",
    "tip = int(input(\"How much percent would you like to give? 10, 12, or 15\\n\"))\n",
    "# print(type(tip))\n",
    "people = int(input(\"How many people to split the bill\\n\"))\n",
    "# print(type(people))\n",
    "# bill_with_tip = tip / 100 * bill + bill\n",
    "\n",
    "tip_as_percent = tip / 100\n",
    "total_tip_amount = bill * tip_as_percent\n",
    "total_bill = bill + total_tip_amount\n",
    "bill_per_person = total_bill / people\n",
    "final_amount = round(bill_per_person, 6)\n",
    "\n",
    "final_amount = \"{:.2f}\".format(bill_per_person)\n",
    "# print(bill_with_tip)\n",
    "print(f\"Each person should pay {final_amount} INR Rupee\")"
   ]
  }
 ],
 "metadata": {
  "kernelspec": {
   "display_name": "Python 3 (ipykernel)",
   "language": "python",
   "name": "python3"
  },
  "language_info": {
   "codemirror_mode": {
    "name": "ipython",
    "version": 3
   },
   "file_extension": ".py",
   "mimetype": "text/x-python",
   "name": "python",
   "nbconvert_exporter": "python",
   "pygments_lexer": "ipython3",
   "version": "3.11.0"
  }
 },
 "nbformat": 4,
 "nbformat_minor": 2
}
