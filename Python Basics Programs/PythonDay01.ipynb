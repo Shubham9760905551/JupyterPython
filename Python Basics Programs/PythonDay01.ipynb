{
 "cells": [
  {
   "cell_type": "markdown",
   "metadata": {},
   "source": [
    "# Day 1 in Python"
   ]
  },
  {
   "cell_type": "markdown",
   "metadata": {},
   "source": [
    "## Working with variables in Python to manage Data"
   ]
  },
  {
   "cell_type": "markdown",
   "metadata": {},
   "source": [
    "The `print()` function shows text, numbers, variables, or expression results to users or developers via the console. It's vital for debugging, displaying outcomes, and sharing program information."
   ]
  },
  {
   "cell_type": "code",
   "execution_count": 1,
   "metadata": {},
   "outputs": [
    {
     "name": "stdout",
     "output_type": "stream",
     "text": [
      "What is your name\n"
     ]
    }
   ],
   "source": [
    "print(\"What is your name\")"
   ]
  },
  {
   "cell_type": "markdown",
   "metadata": {},
   "source": [
    "The input() function is used to receive input from the user via the keyboard. It allows the user to provide data or values to a Python program while it’s running. The input() function prompts the user by displaying a message, and the user can then type in their response."
   ]
  },
  {
   "cell_type": "code",
   "execution_count": 6,
   "metadata": {},
   "outputs": [
    {
     "name": "stdout",
     "output_type": "stream",
     "text": [
      "What is your name\n",
      "Shubham Tomer\n",
      "Hello Shubham Tomer\n"
     ]
    }
   ],
   "source": [
    "# input() will get user input in console\n",
    "# then print() will print the word \"Hello\" and user input\n",
    "# and i'm using \\n for new line\n",
    "print(\"Hello \" + input(\"What is your name\\n\"))"
   ]
  },
  {
   "cell_type": "markdown",
   "metadata": {},
   "source": [
    "The len() function is used to determine the length or number of items in a sequence, such as a string, list, tuple, or other iterable objects. It returns the total count of elements in the sequence."
   ]
  },
  {
   "cell_type": "code",
   "execution_count": 1,
   "metadata": {},
   "outputs": [
    {
     "name": "stdout",
     "output_type": "stream",
     "text": [
      "What is your name\n",
      "Shubham\n",
      "7\n"
     ]
    }
   ],
   "source": [
    "print(len(input(\"What is your name\\n\")))"
   ]
  },
  {
   "cell_type": "markdown",
   "metadata": {},
   "source": [
    "A variable is a symbolic name that refers to a value. It’s used to store data that can be manipulated and accessed in your code. You can assign different types of values, such as numbers, strings, lists, or objects, to variables."
   ]
  },
  {
   "cell_type": "code",
   "execution_count": 1,
   "metadata": {},
   "outputs": [
    {
     "name": "stdout",
     "output_type": "stream",
     "text": [
      "What is your name\n",
      "Shubham tomer\n",
      "Your name is  Shubham tomer \n",
      "Length of input -  13\n"
     ]
    }
   ],
   "source": [
    "# I have created a variable named variable. Variable don't allow spaces for separate of words use underscore.\n",
    "# I am using \",\" to get the output of variable and len function with single print function.\n",
    "variable = input(\"What is your name\\n\")\n",
    "length = len(variable)\n",
    "print(\"Your name is \" , variable , \"\\nLength of input - \" , length)"
   ]
  },
  {
   "cell_type": "markdown",
   "metadata": {},
   "source": [
    "### Project According to Day 1\n",
    "##### Brand name Generator <a href=\"https://github.com/shivamtomershiv/beginnerLevelPythonCodes/blob/main/Python%20Basics%20Programs/Daily%20Projects/PATD_01.py\" target=\"_blank\">Click Here</a>"
   ]
  }
 ],
 "metadata": {
  "kernelspec": {
   "display_name": "Python 3 (ipykernel)",
   "language": "python",
   "name": "python3"
  },
  "language_info": {
   "codemirror_mode": {
    "name": "ipython",
    "version": 3
   },
   "file_extension": ".py",
   "mimetype": "text/x-python",
   "name": "python",
   "nbconvert_exporter": "python",
   "pygments_lexer": "ipython3",
   "version": "3.11.0"
  }
 },
 "nbformat": 4,
 "nbformat_minor": 4
}
