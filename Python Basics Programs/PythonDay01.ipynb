{
  "cells": [
    {
      "cell_type": "markdown",
      "metadata": {
        "id": "LheQb64xdWqW"
      },
      "source": [
        "# Day 1 in Python"
      ]
    },
    {
      "cell_type": "markdown",
      "metadata": {
        "id": "KBUTA-jDdWqY"
      },
      "source": [
        "## Working with variables in Python to manage Data"
      ]
    },
    {
      "cell_type": "markdown",
      "metadata": {
        "id": "iZBrqEhwdWqZ"
      },
      "source": [
        "The **`print()`** function shows text, numbers, variables, or expression results to users or developers via the console. It's vital for debugging, displaying outcomes, and sharing program information."
      ]
    },
    {
      "cell_type": "code",
      "execution_count": null,
      "metadata": {
        "colab": {
          "base_uri": "https://localhost:8080/"
        },
        "id": "Gps_B9bHdWqZ",
        "outputId": "389250e2-45bc-4d93-e288-e10dc6037104"
      },
      "outputs": [
        {
          "output_type": "stream",
          "name": "stdout",
          "text": [
            "What is your name\n",
            " \"Hello\" What is your name\n",
            "A 'single quote' inside double quote\n",
            "A \"double quote\" inside single quote\n",
            "Alternatively you can just \"escape\" the quote\n"
          ]
        }
      ],
      "source": [
        "print(\"What is your name\") # simple print statement\n",
        "\n",
        "# print modifiers\n",
        "# print statemens in different way\n",
        "print(' \"Hello\" What is your name')\n",
        "print(\"A 'single quote' inside double quote\")\n",
        "print('A \"double quote\" inside single quote')\n",
        "print(\"Alternatively you can just \\\"escape\\\" the quote\")"
      ]
    },
    {
      "cell_type": "markdown",
      "metadata": {
        "id": "DpI6IMHSdWqb"
      },
      "source": [
        "The **`input()`** function is used to receive input from the user via the keyboard. It allows the user to provide data or values to a Python program while it’s running. The **`input()`** function prompts the user by displaying a message, and the user can then type in their response."
      ]
    },
    {
      "cell_type": "markdown",
      "source": [
        "The **\\n** is a type of escape character that will create a new line when used."
      ],
      "metadata": {
        "id": "Ty_sIdR5F-eU"
      }
    },
    {
      "cell_type": "code",
      "execution_count": null,
      "metadata": {
        "id": "EVTvBBXkdWqb",
        "outputId": "10a5fbac-1442-4932-9b28-f8876231d2c5"
      },
      "outputs": [
        {
          "name": "stdout",
          "output_type": "stream",
          "text": [
            "What is your name\n",
            "Shubham Tomer\n",
            "Hello Shubham Tomer\n"
          ]
        }
      ],
      "source": [
        "# input() will get user input in console\n",
        "# then print() will print the word \"Hello\" and user input\n",
        "# and i'm using \\n for new line\n",
        "print(\"Hello \" + input(\"What is your name\\n\"))"
      ]
    },
    {
      "cell_type": "markdown",
      "metadata": {
        "id": "vSKa_CttdWqc"
      },
      "source": [
        "The **`len()`** function is used to determine the length or number of items in a sequence, such as a string, list, tuple, or other iterable objects. It returns the total count of elements in the sequence."
      ]
    },
    {
      "cell_type": "code",
      "execution_count": null,
      "metadata": {
        "colab": {
          "base_uri": "https://localhost:8080/"
        },
        "id": "Q4GAEsIEdWqd",
        "outputId": "14411268-b8bb-491e-edb7-251ce2fe486e"
      },
      "outputs": [
        {
          "output_type": "stream",
          "name": "stdout",
          "text": [
            "What is your name\n",
            "Shubham\n",
            "7\n"
          ]
        }
      ],
      "source": [
        "print(len(input(\"What is your name\\n\")))"
      ]
    },
    {
      "cell_type": "markdown",
      "metadata": {
        "id": "mLc4K-t0dWqe"
      },
      "source": [
        "A variable is a symbolic name that refers to a value. It’s used to store data that can be manipulated and accessed in your code. You can assign different types of values, such as numbers, strings, lists, or objects, to variables."
      ]
    },
    {
      "cell_type": "code",
      "execution_count": null,
      "metadata": {
        "id": "urUdJcL-dWqe",
        "outputId": "57db602d-7aa3-4d5b-8742-82fbb995e1ef"
      },
      "outputs": [
        {
          "name": "stdout",
          "output_type": "stream",
          "text": [
            "What is your name\n",
            "Shubham tomer\n",
            "Your name is  Shubham tomer \n",
            "Length of input -  13\n"
          ]
        }
      ],
      "source": [
        "# I have created a variable named variable. Variable don't allow spaces for separate of words use underscore.\n",
        "# I am using \",\" to get the output of variable and len function with single print function.\n",
        "variable = input(\"What is your name\\n\")\n",
        "length = len(variable)\n",
        "print(\"Your name is \" , variable , \"\\nLength of input - \" , length)"
      ]
    },
    {
      "cell_type": "markdown",
      "metadata": {
        "id": "Uq5QNUNidWqf"
      },
      "source": [
        "### Project According to Day 1\n",
        "##### Brand name Generator <a href=\"https://github.com/shivamtomershiv/beginnerLevelPythonCodes/blob/main/Python%20Basics%20Programs/Daily%20Projects/PATD_01.py\" target=\"_blank\">**Click Here**</a>"
      ]
    }
  ],
  "metadata": {
    "kernelspec": {
      "display_name": "Python 3 (ipykernel)",
      "language": "python",
      "name": "python3"
    },
    "language_info": {
      "codemirror_mode": {
        "name": "ipython",
        "version": 3
      },
      "file_extension": ".py",
      "mimetype": "text/x-python",
      "name": "python",
      "nbconvert_exporter": "python",
      "pygments_lexer": "ipython3",
      "version": "3.11.0"
    },
    "colab": {
      "provenance": []
    }
  },
  "nbformat": 4,
  "nbformat_minor": 0
}