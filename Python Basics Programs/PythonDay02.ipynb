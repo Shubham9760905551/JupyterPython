{
  "cells": [
    {
      "cell_type": "markdown",
      "metadata": {
        "id": "HspyDcn7gdLq"
      },
      "source": [
        "# Day 2 in Python"
      ]
    },
    {
      "cell_type": "markdown",
      "metadata": {
        "id": "LphJDwEHgdLu"
      },
      "source": [
        "## Using Data Types and How to Manipulate Strings"
      ]
    },
    {
      "cell_type": "markdown",
      "metadata": {
        "id": "ERSfo5z3gdLv"
      },
      "source": [
        "**`Square brackets []`** , are the definition of the subscript operator. It is used to access string, list, and other data types' components. Let's use the following example to demonstrate syntax: Specified string[<index>] The supplied string is the string you want to look at, and the index indicates where in the string you want to find a particular character."
      ]
    },
    {
      "cell_type": "code",
      "execution_count": null,
      "metadata": {
        "id": "tZ-N6IfjgdLv",
        "outputId": "ebdbf11d-4a80-422a-bef1-d9c5104247b2"
      },
      "outputs": [
        {
          "name": "stdout",
          "output_type": "stream",
          "text": [
            "H\n",
            "o\n"
          ]
        }
      ],
      "source": [
        "# eg. print(\"string\"[value])\n",
        "# Programmers start counting from Zero(0)\n",
        "print(\"Hello\"[0])\n",
        "print(\"Hello\"[4])"
      ]
    },
    {
      "cell_type": "code",
      "execution_count": null,
      "metadata": {
        "id": "lAzlzaKfgdLy",
        "outputId": "e03c65f1-8c5b-41e5-c75b-1eb4e417b686"
      },
      "outputs": [
        {
          "name": "stdout",
          "output_type": "stream",
          "text": [
            "123345\n",
            "468\n"
          ]
        }
      ],
      "source": [
        "# If you use the print function's double inverted comma. The output will print exactly as is.\n",
        "print(\"123\"+\"345\")\n",
        "# Value will be added using the [addition \"+\"] arithmetic operator.\n",
        "print(123+345)"
      ]
    },
    {
      "cell_type": "code",
      "execution_count": 2,
      "metadata": {
        "colab": {
          "base_uri": "https://localhost:8080/"
        },
        "id": "7wFyfK_egdLy",
        "outputId": "d02c9c37-2d67-4757-b313-8541ea15e3ad"
      },
      "outputs": [
        {
          "output_type": "stream",
          "name": "stdout",
          "text": [
            "What is your name? \n",
            "Shubham Tomer\n",
            "Your name has 13 characters\n"
          ]
        }
      ],
      "source": [
        "num_char = len(input(\"What is your name? \\n\"))\n",
        "new_num_char = str(num_char) # with str() num_char convert into string\n",
        "print(\"Your name has \" + new_num_char + \" characters\")"
      ]
    },
    {
      "cell_type": "code",
      "execution_count": null,
      "metadata": {
        "id": "h8ApImGVgdLz",
        "outputId": "d53eb3e0-99c4-4a1a-a071-2a91b8d156c0"
      },
      "outputs": [
        {
          "name": "stdout",
          "output_type": "stream",
          "text": [
            "170.5\n",
            "70100\n"
          ]
        }
      ],
      "source": [
        "print(70 + float(\"100.5\"))\n",
        "print(str(70) + str(100))"
      ]
    },
    {
      "cell_type": "markdown",
      "metadata": {
        "id": "OYhzkRyvgdLz"
      },
      "source": [
        "A **\"type\"** is a classification of a variable or object based on its nature and behavior, determining its operations. Python has built-in data types like integers, floats, strings, lists, and dictionaries. The type() function can be used to determine the type of a variable or object."
      ]
    },
    {
      "cell_type": "code",
      "execution_count": 3,
      "metadata": {
        "colab": {
          "base_uri": "https://localhost:8080/"
        },
        "id": "607nwQ9IgdLz",
        "outputId": "45df9200-45ed-4b74-8793-feaa6f2181a5"
      },
      "outputs": [
        {
          "output_type": "stream",
          "name": "stdout",
          "text": [
            "Type your two digit number\n",
            "98\n",
            "<class 'str'>\n",
            "98\n",
            "<class 'int'>\n",
            "17\n"
          ]
        }
      ],
      "source": [
        "# eg. type(5) returning <class 'int'>.\n",
        "two_digit_number = input(\"Type your two digit number\\n\")\n",
        "\n",
        "# Get the first and second digits using subscribting.\n",
        "first_digit = two_digit_number[0]\n",
        "second_digit = two_digit_number[1]\n",
        "\n",
        "result = first_digit + second_digit\n",
        "print(type(result)) # Check the data type of result\n",
        "print(result)\n",
        "\n",
        "# Now converting string to int.\n",
        "result = int(first_digit) + int(second_digit)\n",
        "print(type(result)) # Check the data type of result\n",
        "print(result)"
      ]
    },
    {
      "cell_type": "code",
      "execution_count": null,
      "metadata": {
        "id": "yppPmyB1gdL0",
        "outputId": "822faea8-c730-4f43-8462-424169f9deaa"
      },
      "outputs": [
        {
          "name": "stdout",
          "output_type": "stream",
          "text": [
            "8\n"
          ]
        }
      ],
      "source": [
        "# If you calculate squares and qs then\n",
        "print(2**3) # 2 the power 3 answer will 8"
      ]
    },
    {
      "cell_type": "markdown",
      "metadata": {
        "id": "JSNT4UI0gdL0"
      },
      "source": [
        "#### Mathematical Operations"
      ]
    },
    {
      "cell_type": "code",
      "execution_count": 4,
      "metadata": {
        "colab": {
          "base_uri": "https://localhost:8080/"
        },
        "id": "1pBbV4jAgdL1",
        "outputId": "d985207b-a165-4bda-ff28-7f2d1b7317be"
      },
      "outputs": [
        {
          "output_type": "stream",
          "name": "stdout",
          "text": [
            "3.0\n"
          ]
        }
      ],
      "source": [
        "# PEMDASLR\n",
        "# ()\n",
        "# **\n",
        "# * /\n",
        "# + -\n",
        "print( 3 * (3 + 3 ) / 3 - 3) # when you divide a value \"result will be in float\""
      ]
    },
    {
      "cell_type": "markdown",
      "metadata": {
        "id": "gEsZ2_FSgdL1"
      },
      "source": [
        "#### Body mass index (BMI) Calculator\n",
        "\n",
        "<img width=\"300\" src=\"https://udemy-images.s3.amazonaws.com/redactor/raw/2018-04-10_10-46-19-6f9dd56427369af15157541db9ec7888.png\">"
      ]
    },
    {
      "cell_type": "code",
      "execution_count": null,
      "metadata": {
        "id": "wJOcsCDigdL1",
        "outputId": "bbd6f109-e6d3-4874-9d34-def930891ad6"
      },
      "outputs": [
        {
          "name": "stdout",
          "output_type": "stream",
          "text": [
            "Enter your height in m\n",
            "1.77\n",
            "Enter your weight in kg\n",
            "89\n",
            "28\n"
          ]
        }
      ],
      "source": [
        "height = input(\"Enter your height in m\\n\")\n",
        "weight = input(\"Enter your weight in kg\\n\")\n",
        "\n",
        "bmi = int(weight) / float(height) ** 2\n",
        "bmi_as_int = int(bmi)\n",
        "print(bmi_as_int)"
      ]
    },
    {
      "cell_type": "markdown",
      "metadata": {
        "id": "KbeT-2degdL2"
      },
      "source": [
        "#### Program using maths and **`f-String`** that tells us how many days, weeks, months we have left if we live until 90 years old.\n",
        "\n"
      ]
    },
    {
      "cell_type": "code",
      "execution_count": null,
      "metadata": {
        "id": "Lwk1B3-2gdL2",
        "outputId": "15cb5de5-37d4-4e0a-b41a-465627b3c842"
      },
      "outputs": [
        {
          "name": "stdout",
          "output_type": "stream",
          "text": [
            "What is your current age?\n",
            "22\n",
            "You have \n",
            "24820 days\n",
            "3536 weeks, and \n",
            "816 months left\n"
          ]
        }
      ],
      "source": [
        "age = input(\"What is your current age?\\n\")\n",
        "age_as_int = int(age)\n",
        "\n",
        "years_remaining = 90 - age_as_int\n",
        "days_remaining = years_remaining * 365\n",
        "weeks_remaining = years_remaining * 52\n",
        "months_remaining = years_remaining * 12\n",
        "\n",
        "message = f\"You have \\n{days_remaining} days\\n{weeks_remaining} weeks, and \\n{months_remaining} months left\"\n",
        "print(message)"
      ]
    },
    {
      "cell_type": "markdown",
      "metadata": {
        "id": "hGZ6NRRVgdL2"
      },
      "source": [
        "### Project According to Day 2\n",
        "##### Tip Calculator <a href=\"https://github.com/shivamtomershiv/beginnerLevelPythonCodes/blob/main/Python%20Basics%20Programs/Daily%20Projects/PATD_02.py\" target=\"_blank\">Click Here</a>"
      ]
    }
  ],
  "metadata": {
    "kernelspec": {
      "display_name": "Python 3 (ipykernel)",
      "language": "python",
      "name": "python3"
    },
    "language_info": {
      "codemirror_mode": {
        "name": "ipython",
        "version": 3
      },
      "file_extension": ".py",
      "mimetype": "text/x-python",
      "name": "python",
      "nbconvert_exporter": "python",
      "pygments_lexer": "ipython3",
      "version": "3.11.0"
    },
    "colab": {
      "provenance": []
    }
  },
  "nbformat": 4,
  "nbformat_minor": 0
}